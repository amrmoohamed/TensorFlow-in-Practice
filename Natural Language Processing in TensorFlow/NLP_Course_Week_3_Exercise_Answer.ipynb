{
  "nbformat": 4,
  "nbformat_minor": 0,
  "metadata": {
    "accelerator": "GPU",
    "colab": {
      "name": "NLP Course - Week 3 Exercise Answer.ipynb",
      "provenance": [],
      "toc_visible": true,
      "include_colab_link": true
    },
    "kernelspec": {
      "display_name": "Python 3",
      "language": "python",
      "name": "python3"
    },
    "language_info": {
      "codemirror_mode": {
        "name": "ipython",
        "version": 3
      },
      "file_extension": ".py",
      "mimetype": "text/x-python",
      "name": "python",
      "nbconvert_exporter": "python",
      "pygments_lexer": "ipython3",
      "version": "3.7.6"
    }
  },
  "cells": [
    {
      "cell_type": "markdown",
      "metadata": {
        "id": "view-in-github",
        "colab_type": "text"
      },
      "source": [
        "<a href=\"https://colab.research.google.com/github/amrmoohamed/TensorFlow-in-Practice/blob/master/Natural%20Language%20Processing%20in%20TensorFlow/NLP_Course_Week_3_Exercise_Answer.ipynb\" target=\"_parent\"><img src=\"https://colab.research.google.com/assets/colab-badge.svg\" alt=\"Open In Colab\"/></a>"
      ]
    },
    {
      "cell_type": "code",
      "metadata": {
        "colab_type": "code",
        "id": "zX4Kg8DUTKWO",
        "colab": {}
      },
      "source": [
        "#@title Licensed under the Apache License, Version 2.0 (the \"License\");\n",
        "# you may not use this file except in compliance with the License.\n",
        "# You may obtain a copy of the License at\n",
        "#\n",
        "# https://www.apache.org/licenses/LICENSE-2.0\n",
        "#\n",
        "# Unless required by applicable law or agreed to in writing, software\n",
        "# distributed under the License is distributed on an \"AS IS\" BASIS,\n",
        "# WITHOUT WARRANTIES OR CONDITIONS OF ANY KIND, either express or implied.\n",
        "# See the License for the specific language governing permissions and\n",
        "# limitations under the License."
      ],
      "execution_count": 1,
      "outputs": []
    },
    {
      "cell_type": "markdown",
      "metadata": {
        "id": "Z7d0CrGfJV1Q",
        "colab_type": "text"
      },
      "source": [
        "<a href=\"https://colab.research.google.com/github/lmoroney/dlaicourse/blob/master/TensorFlow%20In%20Practice/Course%203%20-%20NLP/NLP%20Course%20-%20Week%203%20Exercise%20Answer.ipynb\" target=\"_parent\"><img src=\"https://colab.research.google.com/assets/colab-badge.svg\" alt=\"Open In Colab\"/></a>"
      ]
    },
    {
      "cell_type": "code",
      "metadata": {
        "colab_type": "code",
        "id": "hmA6EzkQJ5jt",
        "colab": {}
      },
      "source": [
        "import json\n",
        "import tensorflow as tf\n",
        "import csv\n",
        "import random\n",
        "import numpy as np\n",
        "\n",
        "from tensorflow.keras.preprocessing.text import Tokenizer\n",
        "from tensorflow.keras.preprocessing.sequence import pad_sequences\n",
        "from tensorflow.keras.utils import to_categorical\n",
        "from tensorflow.keras import regularizers\n",
        "\n",
        "\n",
        "embedding_dim = 100\n",
        "max_length = 16\n",
        "trunc_type='post'\n",
        "padding_type='post'\n",
        "oov_tok = \"<OOV>\"\n",
        "training_size=160000\n",
        "test_portion=.1\n",
        "\n",
        "corpus = []\n"
      ],
      "execution_count": 2,
      "outputs": []
    },
    {
      "cell_type": "code",
      "metadata": {
        "colab_type": "code",
        "id": "bM0l_dORKqE0",
        "colab": {
          "base_uri": "https://localhost:8080/",
          "height": 223
        },
        "outputId": "378f2718-5bb2-45d1-8929-29e7f0b7c68c"
      },
      "source": [
        "# Note that I cleaned the Stanford dataset to remove LATIN1 encoding to make it easier for Python CSV reader\n",
        "# You can do that yourself with:\n",
        "# iconv -f LATIN1 -t UTF8 training.1600000.processed.noemoticon.csv -o training_cleaned.csv\n",
        "# I then hosted it on my site to make it easier to use in this notebook\n",
        "\n",
        "!wget --no-check-certificate \\\n",
        "    https://storage.googleapis.com/laurencemoroney-blog.appspot.com/training_cleaned.csv \\\n",
        "    -O /tmp/training_cleaned.csv\n",
        "\n",
        "num_sentences = 0\n",
        "\n",
        "with open(\"/tmp/training_cleaned.csv\") as csvfile:\n",
        "    reader = csv.reader(csvfile, delimiter=',')\n",
        "    for row in reader:\n",
        "        list_item=[]\n",
        "        list_item.append(row[5])\n",
        "        this_label=row[0]\n",
        "        if this_label=='0':\n",
        "            list_item.append(0)\n",
        "        else:\n",
        "            list_item.append(1)\n",
        "        num_sentences = num_sentences + 1\n",
        "        corpus.append(list_item)\n"
      ],
      "execution_count": 3,
      "outputs": [
        {
          "output_type": "stream",
          "text": [
            "--2020-06-23 12:38:47--  https://storage.googleapis.com/laurencemoroney-blog.appspot.com/training_cleaned.csv\n",
            "Resolving storage.googleapis.com (storage.googleapis.com)... 108.177.125.128, 2404:6800:4008:c03::80\n",
            "Connecting to storage.googleapis.com (storage.googleapis.com)|108.177.125.128|:443... connected.\n",
            "HTTP request sent, awaiting response... 200 OK\n",
            "Length: 238942690 (228M) [application/octet-stream]\n",
            "Saving to: ‘/tmp/training_cleaned.csv’\n",
            "\n",
            "/tmp/training_clean 100%[===================>] 227.87M   173MB/s    in 1.3s    \n",
            "\n",
            "2020-06-23 12:38:49 (173 MB/s) - ‘/tmp/training_cleaned.csv’ saved [238942690/238942690]\n",
            "\n"
          ],
          "name": "stdout"
        }
      ]
    },
    {
      "cell_type": "code",
      "metadata": {
        "colab_type": "code",
        "id": "3kxblBUjEUX-",
        "colab": {
          "base_uri": "https://localhost:8080/",
          "height": 73
        },
        "outputId": "76cfee93-c08d-41f1-fba8-6f7de5e0899b"
      },
      "source": [
        "print(num_sentences)\n",
        "print(len(corpus))\n",
        "print(corpus[1])\n",
        "\n",
        "# Expected Output:\n",
        "# 1600000\n",
        "# 1600000\n",
        "# [\"is upset that he can't update his Facebook by texting it... and might cry as a result  School today also. Blah!\", 0]"
      ],
      "execution_count": 4,
      "outputs": [
        {
          "output_type": "stream",
          "text": [
            "1600000\n",
            "1600000\n",
            "[\"is upset that he can't update his Facebook by texting it... and might cry as a result  School today also. Blah!\", 0]\n"
          ],
          "name": "stdout"
        }
      ]
    },
    {
      "cell_type": "code",
      "metadata": {
        "colab_type": "code",
        "id": "ohOGz24lsNAD",
        "colab": {}
      },
      "source": [
        "sentences=[]\n",
        "labels=[]\n",
        "random.shuffle(corpus)\n",
        "for x in range(training_size):\n",
        "    sentences.append(corpus[x][0])\n",
        "    labels.append(corpus[x][1])\n",
        "\n",
        "\n",
        "tokenizer = Tokenizer()\n",
        "tokenizer.fit_on_texts(sentences)\n",
        "\n",
        "word_index = tokenizer.word_index\n",
        "vocab_size=len(word_index)\n",
        "\n",
        "sequences = tokenizer.texts_to_sequences(sentences)\n",
        "padded = pad_sequences(sequences, maxlen=max_length, padding=padding_type, truncating=trunc_type)\n",
        "\n",
        "split = int(test_portion * training_size)\n",
        "\n",
        "test_sequences = padded[0:split]\n",
        "training_sequences = padded[split:training_size]\n",
        "test_labels = labels[0:split]\n",
        "training_labels = labels[split:training_size]"
      ],
      "execution_count": 5,
      "outputs": []
    },
    {
      "cell_type": "code",
      "metadata": {
        "colab_type": "code",
        "id": "gIrtRem1En3N",
        "colab": {
          "base_uri": "https://localhost:8080/",
          "height": 55
        },
        "outputId": "4c33037b-fb29-4083-d963-ff4bf58a2a44"
      },
      "source": [
        "print(vocab_size)\n",
        "print(word_index['i'])\n",
        "# Expected Output\n",
        "# 138858\n",
        "# 1"
      ],
      "execution_count": 6,
      "outputs": [
        {
          "output_type": "stream",
          "text": [
            "138635\n",
            "1\n"
          ],
          "name": "stdout"
        }
      ]
    },
    {
      "cell_type": "code",
      "metadata": {
        "colab_type": "code",
        "id": "C1zdgJkusRh0",
        "colab": {
          "base_uri": "https://localhost:8080/",
          "height": 223
        },
        "outputId": "d715b244-ae2e-4ef0-c9fc-c5b7b83c7182"
      },
      "source": [
        "# Note this is the 100 dimension version of GloVe from Stanford\n",
        "# I unzipped and hosted it on my site to make this notebook easier\n",
        "!wget --no-check-certificate \\\n",
        "    https://storage.googleapis.com/laurencemoroney-blog.appspot.com/glove.6B.100d.txt \\\n",
        "    -O /tmp/glove.6B.100d.txt\n",
        "embeddings_index = {};\n",
        "with open('/tmp/glove.6B.100d.txt') as f:\n",
        "    for line in f:\n",
        "        values = line.split();\n",
        "        word = values[0];\n",
        "        coefs = np.asarray(values[1:], dtype='float32');\n",
        "        embeddings_index[word] = coefs;\n",
        "\n",
        "embeddings_matrix = np.zeros((vocab_size+1, embedding_dim));\n",
        "for word, i in word_index.items():\n",
        "    embedding_vector = embeddings_index.get(word);\n",
        "    if embedding_vector is not None:\n",
        "        embeddings_matrix[i] = embedding_vector;"
      ],
      "execution_count": 7,
      "outputs": [
        {
          "output_type": "stream",
          "text": [
            "--2020-06-23 12:39:02--  https://storage.googleapis.com/laurencemoroney-blog.appspot.com/glove.6B.100d.txt\n",
            "Resolving storage.googleapis.com (storage.googleapis.com)... 64.233.189.128, 2404:6800:4008:c06::80\n",
            "Connecting to storage.googleapis.com (storage.googleapis.com)|64.233.189.128|:443... connected.\n",
            "HTTP request sent, awaiting response... 200 OK\n",
            "Length: 347116733 (331M) [text/plain]\n",
            "Saving to: ‘/tmp/glove.6B.100d.txt’\n",
            "\n",
            "/tmp/glove.6B.100d. 100%[===================>] 331.04M  55.0MB/s    in 6.0s    \n",
            "\n",
            "2020-06-23 12:39:08 (55.0 MB/s) - ‘/tmp/glove.6B.100d.txt’ saved [347116733/347116733]\n",
            "\n"
          ],
          "name": "stdout"
        }
      ]
    },
    {
      "cell_type": "code",
      "metadata": {
        "colab_type": "code",
        "id": "71NLk_lpFLNt",
        "colab": {
          "base_uri": "https://localhost:8080/",
          "height": 36
        },
        "outputId": "d27383ab-f09c-4431-938d-dbdea98b8316"
      },
      "source": [
        "print(len(embeddings_matrix))\n",
        "# Expected Output\n",
        "# 138859"
      ],
      "execution_count": 8,
      "outputs": [
        {
          "output_type": "stream",
          "text": [
            "138636\n"
          ],
          "name": "stdout"
        }
      ]
    },
    {
      "cell_type": "code",
      "metadata": {
        "colab_type": "code",
        "id": "iKKvbuEBOGFz",
        "colab": {
          "base_uri": "https://localhost:8080/",
          "height": 1000
        },
        "outputId": "e9d864ce-2544-4543-e033-0dd106c38289"
      },
      "source": [
        "model = tf.keras.Sequential([\n",
        "    tf.keras.layers.Embedding(vocab_size+1, embedding_dim, input_length=max_length, weights=[embeddings_matrix], trainable=False),\n",
        "    tf.keras.layers.Dropout(0.2),\n",
        "    tf.keras.layers.Conv1D(64, 5, activation='relu'),\n",
        "    tf.keras.layers.MaxPooling1D(pool_size=4),\n",
        "    tf.keras.layers.LSTM(64),\n",
        "    tf.keras.layers.Dense(1, activation='sigmoid')\n",
        "])\n",
        "model.compile(loss='binary_crossentropy',optimizer='adam',metrics=['accuracy'])\n",
        "model.summary()\n",
        "\n",
        "num_epochs = 50\n",
        "\n",
        "training_padded = np.array(training_sequences)\n",
        "training_labels = np.array(training_labels)\n",
        "testing_padded = np.array(test_sequences)\n",
        "testing_labels = np.array(test_labels)\n",
        "\n",
        "history = model.fit(training_padded, training_labels, epochs=num_epochs, validation_data=(testing_padded, testing_labels), verbose=2)\n",
        "\n",
        "print(\"Training Complete\")"
      ],
      "execution_count": 9,
      "outputs": [
        {
          "output_type": "stream",
          "text": [
            "Model: \"sequential\"\n",
            "_________________________________________________________________\n",
            "Layer (type)                 Output Shape              Param #   \n",
            "=================================================================\n",
            "embedding (Embedding)        (None, 16, 100)           13863600  \n",
            "_________________________________________________________________\n",
            "dropout (Dropout)            (None, 16, 100)           0         \n",
            "_________________________________________________________________\n",
            "conv1d (Conv1D)              (None, 12, 64)            32064     \n",
            "_________________________________________________________________\n",
            "max_pooling1d (MaxPooling1D) (None, 3, 64)             0         \n",
            "_________________________________________________________________\n",
            "lstm (LSTM)                  (None, 64)                33024     \n",
            "_________________________________________________________________\n",
            "dense (Dense)                (None, 1)                 65        \n",
            "=================================================================\n",
            "Total params: 13,928,753\n",
            "Trainable params: 65,153\n",
            "Non-trainable params: 13,863,600\n",
            "_________________________________________________________________\n",
            "Epoch 1/50\n",
            "4500/4500 - 15s - loss: 0.5667 - accuracy: 0.6999 - val_loss: 0.5259 - val_accuracy: 0.7340\n",
            "Epoch 2/50\n",
            "4500/4500 - 14s - loss: 0.5258 - accuracy: 0.7342 - val_loss: 0.5085 - val_accuracy: 0.7476\n",
            "Epoch 3/50\n",
            "4500/4500 - 14s - loss: 0.5095 - accuracy: 0.7450 - val_loss: 0.5033 - val_accuracy: 0.7517\n",
            "Epoch 4/50\n",
            "4500/4500 - 14s - loss: 0.4982 - accuracy: 0.7532 - val_loss: 0.4984 - val_accuracy: 0.7534\n",
            "Epoch 5/50\n",
            "4500/4500 - 14s - loss: 0.4905 - accuracy: 0.7582 - val_loss: 0.4957 - val_accuracy: 0.7556\n",
            "Epoch 6/50\n",
            "4500/4500 - 14s - loss: 0.4826 - accuracy: 0.7639 - val_loss: 0.4949 - val_accuracy: 0.7546\n",
            "Epoch 7/50\n",
            "4500/4500 - 14s - loss: 0.4762 - accuracy: 0.7661 - val_loss: 0.5038 - val_accuracy: 0.7547\n",
            "Epoch 8/50\n",
            "4500/4500 - 14s - loss: 0.4704 - accuracy: 0.7707 - val_loss: 0.5070 - val_accuracy: 0.7505\n",
            "Epoch 9/50\n",
            "4500/4500 - 14s - loss: 0.4650 - accuracy: 0.7742 - val_loss: 0.5018 - val_accuracy: 0.7551\n",
            "Epoch 10/50\n",
            "4500/4500 - 14s - loss: 0.4622 - accuracy: 0.7767 - val_loss: 0.4991 - val_accuracy: 0.7559\n",
            "Epoch 11/50\n",
            "4500/4500 - 14s - loss: 0.4590 - accuracy: 0.7776 - val_loss: 0.4993 - val_accuracy: 0.7556\n",
            "Epoch 12/50\n",
            "4500/4500 - 14s - loss: 0.4564 - accuracy: 0.7801 - val_loss: 0.5008 - val_accuracy: 0.7550\n",
            "Epoch 13/50\n",
            "4500/4500 - 14s - loss: 0.4530 - accuracy: 0.7820 - val_loss: 0.5022 - val_accuracy: 0.7570\n",
            "Epoch 14/50\n",
            "4500/4500 - 15s - loss: 0.4506 - accuracy: 0.7822 - val_loss: 0.5083 - val_accuracy: 0.7529\n",
            "Epoch 15/50\n",
            "4500/4500 - 14s - loss: 0.4499 - accuracy: 0.7833 - val_loss: 0.5070 - val_accuracy: 0.7533\n",
            "Epoch 16/50\n",
            "4500/4500 - 14s - loss: 0.4466 - accuracy: 0.7836 - val_loss: 0.5050 - val_accuracy: 0.7527\n",
            "Epoch 17/50\n",
            "4500/4500 - 14s - loss: 0.4450 - accuracy: 0.7865 - val_loss: 0.5034 - val_accuracy: 0.7550\n",
            "Epoch 18/50\n",
            "4500/4500 - 15s - loss: 0.4419 - accuracy: 0.7882 - val_loss: 0.5100 - val_accuracy: 0.7561\n",
            "Epoch 19/50\n",
            "4500/4500 - 14s - loss: 0.4421 - accuracy: 0.7886 - val_loss: 0.5169 - val_accuracy: 0.7496\n",
            "Epoch 20/50\n",
            "4500/4500 - 14s - loss: 0.4407 - accuracy: 0.7895 - val_loss: 0.5050 - val_accuracy: 0.7556\n",
            "Epoch 21/50\n",
            "4500/4500 - 14s - loss: 0.4395 - accuracy: 0.7897 - val_loss: 0.5121 - val_accuracy: 0.7526\n",
            "Epoch 22/50\n",
            "4500/4500 - 14s - loss: 0.4398 - accuracy: 0.7898 - val_loss: 0.5075 - val_accuracy: 0.7532\n",
            "Epoch 23/50\n",
            "4500/4500 - 14s - loss: 0.4392 - accuracy: 0.7893 - val_loss: 0.5208 - val_accuracy: 0.7503\n",
            "Epoch 24/50\n",
            "4500/4500 - 14s - loss: 0.4365 - accuracy: 0.7909 - val_loss: 0.5153 - val_accuracy: 0.7546\n",
            "Epoch 25/50\n",
            "4500/4500 - 14s - loss: 0.4362 - accuracy: 0.7921 - val_loss: 0.5143 - val_accuracy: 0.7537\n",
            "Epoch 26/50\n",
            "4500/4500 - 14s - loss: 0.4335 - accuracy: 0.7928 - val_loss: 0.5135 - val_accuracy: 0.7499\n",
            "Epoch 27/50\n",
            "4500/4500 - 14s - loss: 0.4350 - accuracy: 0.7916 - val_loss: 0.5111 - val_accuracy: 0.7538\n",
            "Epoch 28/50\n",
            "4500/4500 - 14s - loss: 0.4327 - accuracy: 0.7930 - val_loss: 0.5126 - val_accuracy: 0.7539\n",
            "Epoch 29/50\n",
            "4500/4500 - 14s - loss: 0.4317 - accuracy: 0.7944 - val_loss: 0.5121 - val_accuracy: 0.7516\n",
            "Epoch 30/50\n",
            "4500/4500 - 14s - loss: 0.4334 - accuracy: 0.7923 - val_loss: 0.5114 - val_accuracy: 0.7512\n",
            "Epoch 31/50\n",
            "4500/4500 - 14s - loss: 0.4306 - accuracy: 0.7948 - val_loss: 0.5149 - val_accuracy: 0.7509\n",
            "Epoch 32/50\n",
            "4500/4500 - 14s - loss: 0.4318 - accuracy: 0.7938 - val_loss: 0.5178 - val_accuracy: 0.7524\n",
            "Epoch 33/50\n",
            "4500/4500 - 14s - loss: 0.4295 - accuracy: 0.7958 - val_loss: 0.5129 - val_accuracy: 0.7523\n",
            "Epoch 34/50\n",
            "4500/4500 - 14s - loss: 0.4291 - accuracy: 0.7964 - val_loss: 0.5206 - val_accuracy: 0.7491\n",
            "Epoch 35/50\n",
            "4500/4500 - 15s - loss: 0.4301 - accuracy: 0.7953 - val_loss: 0.5209 - val_accuracy: 0.7521\n",
            "Epoch 36/50\n",
            "4500/4500 - 14s - loss: 0.4295 - accuracy: 0.7961 - val_loss: 0.5162 - val_accuracy: 0.7525\n",
            "Epoch 37/50\n",
            "4500/4500 - 14s - loss: 0.4281 - accuracy: 0.7957 - val_loss: 0.5186 - val_accuracy: 0.7501\n",
            "Epoch 38/50\n",
            "4500/4500 - 14s - loss: 0.4285 - accuracy: 0.7965 - val_loss: 0.5173 - val_accuracy: 0.7502\n",
            "Epoch 39/50\n",
            "4500/4500 - 14s - loss: 0.4280 - accuracy: 0.7973 - val_loss: 0.5190 - val_accuracy: 0.7520\n",
            "Epoch 40/50\n",
            "4500/4500 - 15s - loss: 0.4280 - accuracy: 0.7963 - val_loss: 0.5188 - val_accuracy: 0.7484\n",
            "Epoch 41/50\n",
            "4500/4500 - 14s - loss: 0.4283 - accuracy: 0.7959 - val_loss: 0.5180 - val_accuracy: 0.7501\n",
            "Epoch 42/50\n",
            "4500/4500 - 14s - loss: 0.4262 - accuracy: 0.7975 - val_loss: 0.5164 - val_accuracy: 0.7518\n",
            "Epoch 43/50\n",
            "4500/4500 - 14s - loss: 0.4254 - accuracy: 0.7986 - val_loss: 0.5205 - val_accuracy: 0.7513\n",
            "Epoch 44/50\n",
            "4500/4500 - 14s - loss: 0.4246 - accuracy: 0.7974 - val_loss: 0.5216 - val_accuracy: 0.7501\n",
            "Epoch 45/50\n",
            "4500/4500 - 14s - loss: 0.4259 - accuracy: 0.7971 - val_loss: 0.5227 - val_accuracy: 0.7507\n",
            "Epoch 46/50\n",
            "4500/4500 - 14s - loss: 0.4256 - accuracy: 0.7991 - val_loss: 0.5219 - val_accuracy: 0.7509\n",
            "Epoch 47/50\n",
            "4500/4500 - 14s - loss: 0.4252 - accuracy: 0.7986 - val_loss: 0.5292 - val_accuracy: 0.7498\n",
            "Epoch 48/50\n",
            "4500/4500 - 14s - loss: 0.4264 - accuracy: 0.7973 - val_loss: 0.5241 - val_accuracy: 0.7449\n",
            "Epoch 49/50\n",
            "4500/4500 - 14s - loss: 0.4259 - accuracy: 0.7976 - val_loss: 0.5211 - val_accuracy: 0.7509\n",
            "Epoch 50/50\n",
            "4500/4500 - 14s - loss: 0.4246 - accuracy: 0.7979 - val_loss: 0.5211 - val_accuracy: 0.7477\n",
            "Training Complete\n"
          ],
          "name": "stdout"
        }
      ]
    },
    {
      "cell_type": "code",
      "metadata": {
        "colab_type": "code",
        "id": "qxju4ItJKO8F",
        "colab": {
          "base_uri": "https://localhost:8080/",
          "height": 610
        },
        "outputId": "32cf7b5f-909f-41e4-ef8b-dcb89092e59b"
      },
      "source": [
        "import matplotlib.image  as mpimg\n",
        "import matplotlib.pyplot as plt\n",
        "\n",
        "#-----------------------------------------------------------\n",
        "# Retrieve a list of list results on training and test data\n",
        "# sets for each training epoch\n",
        "#-----------------------------------------------------------\n",
        "acc=history.history['accuracy']\n",
        "val_acc=history.history['val_accuracy']\n",
        "loss=history.history['loss']\n",
        "val_loss=history.history['val_loss']\n",
        "\n",
        "epochs=range(len(acc)) # Get number of epochs\n",
        "\n",
        "#------------------------------------------------\n",
        "# Plot training and validation accuracy per epoch\n",
        "#------------------------------------------------\n",
        "plt.plot(epochs, acc, 'r')\n",
        "plt.plot(epochs, val_acc, 'b')\n",
        "plt.title('Training and validation accuracy')\n",
        "plt.xlabel(\"Epochs\")\n",
        "plt.ylabel(\"Accuracy\")\n",
        "plt.legend([\"Accuracy\", \"Validation Accuracy\"])\n",
        "\n",
        "plt.figure()\n",
        "\n",
        "#------------------------------------------------\n",
        "# Plot training and validation loss per epoch\n",
        "#------------------------------------------------\n",
        "plt.plot(epochs, loss, 'r')\n",
        "plt.plot(epochs, val_loss, 'b')\n",
        "plt.title('Training and validation loss')\n",
        "plt.xlabel(\"Epochs\")\n",
        "plt.ylabel(\"Loss\")\n",
        "plt.legend([\"Loss\", \"Validation Loss\"])\n",
        "\n",
        "plt.figure()\n",
        "\n",
        "\n",
        "# Expected Output\n",
        "# A chart where the validation loss does not increase sharply!"
      ],
      "execution_count": 10,
      "outputs": [
        {
          "output_type": "execute_result",
          "data": {
            "text/plain": [
              "<Figure size 432x288 with 0 Axes>"
            ]
          },
          "metadata": {
            "tags": []
          },
          "execution_count": 10
        },
        {
          "output_type": "display_data",
          "data": {
            "image/png": "[encoded data removed]",
            "text/plain": [
              "<Figure size 432x288 with 1 Axes>"
            ]
          },
          "metadata": {
            "tags": [],
            "needs_background": "light"
          }
        },
        {
          "output_type": "display_data",
          "data": {
            "image/png": "[encoded data removed]",
            "text/plain": [
              "<Figure size 432x288 with 1 Axes>"
            ]
          },
          "metadata": {
            "tags": [],
            "needs_background": "light"
          }
        },
        {
          "output_type": "display_data",
          "data": {
            "text/plain": [
              "<Figure size 432x288 with 0 Axes>"
            ]
          },
          "metadata": {
            "tags": []
          }
        }
      ]
    }
  ]
}