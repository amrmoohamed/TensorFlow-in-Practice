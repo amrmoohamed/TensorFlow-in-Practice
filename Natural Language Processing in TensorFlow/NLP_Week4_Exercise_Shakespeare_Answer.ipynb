{
  "nbformat": 4,
  "nbformat_minor": 0,
  "metadata": {
    "accelerator": "GPU",
    "colab": {
      "name": "NLP_Week4_Exercise_Shakespeare_Answer.ipynb",
      "provenance": [],
      "toc_visible": true,
      "include_colab_link": true
    },
    "kernelspec": {
      "display_name": "Python 3",
      "name": "python3"
    }
  },
  "cells": [
    {
      "cell_type": "markdown",
      "metadata": {
        "id": "view-in-github",
        "colab_type": "text"
      },
      "source": [
        "<a href=\"https://colab.research.google.com/github/amrmoohamed/TensorFlow-in-Practice/blob/master/Natural%20Language%20Processing%20in%20TensorFlow/NLP_Week4_Exercise_Shakespeare_Answer.ipynb\" target=\"_parent\"><img src=\"https://colab.research.google.com/assets/colab-badge.svg\" alt=\"Open In Colab\"/></a>"
      ]
    },
    {
      "cell_type": "code",
      "metadata": {
        "id": "zX4Kg8DUTKWO",
        "colab_type": "code",
        "colab": {}
      },
      "source": [
        "#@title Licensed under the Apache License, Version 2.0 (the \"License\");\n",
        "# you may not use this file except in compliance with the License.\n",
        "# You may obtain a copy of the License at\n",
        "#\n",
        "# https://www.apache.org/licenses/LICENSE-2.0\n",
        "#\n",
        "# Unless required by applicable law or agreed to in writing, software\n",
        "# distributed under the License is distributed on an \"AS IS\" BASIS,\n",
        "# WITHOUT WARRANTIES OR CONDITIONS OF ANY KIND, either express or implied.\n",
        "# See the License for the specific language governing permissions and\n",
        "# limitations under the License."
      ],
      "execution_count": 1,
      "outputs": []
    },
    {
      "cell_type": "code",
      "metadata": {
        "colab_type": "code",
        "id": "BOwsuGQQY9OL",
        "colab": {}
      },
      "source": [
        "from tensorflow.keras.preprocessing.sequence import pad_sequences\n",
        "from tensorflow.keras.layers import Embedding, LSTM, Dense, Dropout, Bidirectional\n",
        "from tensorflow.keras.preprocessing.text import Tokenizer\n",
        "from tensorflow.keras.models import Sequential\n",
        "from tensorflow.keras.optimizers import Adam\n",
        "from tensorflow.keras import regularizers\n",
        "import tensorflow.keras.utils as ku \n",
        "import numpy as np "
      ],
      "execution_count": 2,
      "outputs": []
    },
    {
      "cell_type": "code",
      "metadata": {
        "colab_type": "code",
        "id": "PRnDnCW-Z7qv",
        "colab": {
          "base_uri": "https://localhost:8080/",
          "height": 223
        },
        "outputId": "9d779c36-d64d-4326-d0cf-ab076eaa64a4"
      },
      "source": [
        "tokenizer = Tokenizer()\n",
        "!wget --no-check-certificate \\\n",
        "    https://storage.googleapis.com/laurencemoroney-blog.appspot.com/sonnets.txt \\\n",
        "    -O /tmp/sonnets.txt\n",
        "data = open('/tmp/sonnets.txt').read()\n",
        "\n",
        "corpus = data.lower().split(\"\\n\")\n",
        "\n",
        "\n",
        "tokenizer.fit_on_texts(corpus)\n",
        "total_words = len(tokenizer.word_index) + 1\n",
        "\n",
        "# create input sequences using list of tokens\n",
        "input_sequences = []\n",
        "for line in corpus:\n",
        "\ttoken_list = tokenizer.texts_to_sequences([line])[0]\n",
        "\tfor i in range(1, len(token_list)):\n",
        "\t\tn_gram_sequence = token_list[:i+1]\n",
        "\t\tinput_sequences.append(n_gram_sequence)\n",
        "\n",
        "\n",
        "# pad sequences \n",
        "max_sequence_len = max([len(x) for x in input_sequences])\n",
        "input_sequences = np.array(pad_sequences(input_sequences, maxlen=max_sequence_len, padding='pre'))\n",
        "\n",
        "# create predictors and label\n",
        "predictors, label = input_sequences[:,:-1],input_sequences[:,-1]\n",
        "\n",
        "label = ku.to_categorical(label, num_classes=total_words)"
      ],
      "execution_count": 3,
      "outputs": [
        {
          "output_type": "stream",
          "text": [
            "--2020-06-23 13:59:17--  https://storage.googleapis.com/laurencemoroney-blog.appspot.com/sonnets.txt\n",
            "Resolving storage.googleapis.com (storage.googleapis.com)... 108.177.125.128, 2404:6800:4008:c03::80\n",
            "Connecting to storage.googleapis.com (storage.googleapis.com)|108.177.125.128|:443... connected.\n",
            "HTTP request sent, awaiting response... 200 OK\n",
            "Length: 93578 (91K) [text/plain]\n",
            "Saving to: ‘/tmp/sonnets.txt’\n",
            "\n",
            "\r/tmp/sonnets.txt      0%[                    ]       0  --.-KB/s               \r/tmp/sonnets.txt    100%[===================>]  91.38K  --.-KB/s    in 0.001s  \n",
            "\n",
            "2020-06-23 13:59:17 (76.4 MB/s) - ‘/tmp/sonnets.txt’ saved [93578/93578]\n",
            "\n"
          ],
          "name": "stdout"
        }
      ]
    },
    {
      "cell_type": "code",
      "metadata": {
        "colab_type": "code",
        "id": "w9vH8Y59ajYL",
        "colab": {
          "base_uri": "https://localhost:8080/",
          "height": 411
        },
        "outputId": "05376944-475f-4f8c-e17e-730ba2c9ea6f"
      },
      "source": [
        "model = Sequential()\n",
        "model.add(Embedding(total_words, 100, input_length=max_sequence_len-1))\n",
        "model.add(Bidirectional(LSTM(150, return_sequences = True)))\n",
        "model.add(Dropout(0.2))\n",
        "model.add(LSTM(100))\n",
        "model.add(Dense(total_words/2, activation='relu', kernel_regularizer=regularizers.l2(0.01)))\n",
        "model.add(Dense(total_words, activation='softmax'))\n",
        "model.compile(loss='categorical_crossentropy', optimizer='adam', metrics=['accuracy'])\n",
        "print(model.summary())\n"
      ],
      "execution_count": 4,
      "outputs": [
        {
          "output_type": "stream",
          "text": [
            "Model: \"sequential\"\n",
            "_________________________________________________________________\n",
            "Layer (type)                 Output Shape              Param #   \n",
            "=================================================================\n",
            "embedding (Embedding)        (None, 10, 100)           321100    \n",
            "_________________________________________________________________\n",
            "bidirectional (Bidirectional (None, 10, 300)           301200    \n",
            "_________________________________________________________________\n",
            "dropout (Dropout)            (None, 10, 300)           0         \n",
            "_________________________________________________________________\n",
            "lstm_1 (LSTM)                (None, 100)               160400    \n",
            "_________________________________________________________________\n",
            "dense (Dense)                (None, 1605)              162105    \n",
            "_________________________________________________________________\n",
            "dense_1 (Dense)              (None, 3211)              5156866   \n",
            "=================================================================\n",
            "Total params: 6,101,671\n",
            "Trainable params: 6,101,671\n",
            "Non-trainable params: 0\n",
            "_________________________________________________________________\n",
            "None\n"
          ],
          "name": "stdout"
        }
      ]
    },
    {
      "cell_type": "code",
      "metadata": {
        "colab_type": "code",
        "id": "AIg2f1HBxqof",
        "colab": {
          "base_uri": "https://localhost:8080/",
          "height": 1000
        },
        "outputId": "39d3b37c-b7c9-4c6f-8e6c-69a8a6d3afde"
      },
      "source": [
        " history = model.fit(predictors, label, epochs=100, verbose=1)"
      ],
      "execution_count": 5,
      "outputs": [
        {
          "output_type": "stream",
          "text": [
            "Epoch 1/100\n",
            "484/484 [==============================] - 13s 26ms/step - loss: 6.8983 - accuracy: 0.0201\n",
            "Epoch 2/100\n",
            "484/484 [==============================] - 13s 26ms/step - loss: 6.5007 - accuracy: 0.0218\n",
            "Epoch 3/100\n",
            "484/484 [==============================] - 13s 26ms/step - loss: 6.4122 - accuracy: 0.0241\n",
            "Epoch 4/100\n",
            "484/484 [==============================] - 13s 26ms/step - loss: 6.2929 - accuracy: 0.0307\n",
            "Epoch 5/100\n",
            "484/484 [==============================] - 13s 26ms/step - loss: 6.1956 - accuracy: 0.0353\n",
            "Epoch 6/100\n",
            "484/484 [==============================] - 13s 26ms/step - loss: 6.1117 - accuracy: 0.0392\n",
            "Epoch 7/100\n",
            "484/484 [==============================] - 13s 26ms/step - loss: 6.0347 - accuracy: 0.0406\n",
            "Epoch 8/100\n",
            "484/484 [==============================] - 13s 26ms/step - loss: 5.9521 - accuracy: 0.0448\n",
            "Epoch 9/100\n",
            "484/484 [==============================] - 13s 26ms/step - loss: 5.8546 - accuracy: 0.0499\n",
            "Epoch 10/100\n",
            "484/484 [==============================] - 13s 26ms/step - loss: 5.7421 - accuracy: 0.0563\n",
            "Epoch 11/100\n",
            "484/484 [==============================] - 13s 26ms/step - loss: 5.6364 - accuracy: 0.0638\n",
            "Epoch 12/100\n",
            "484/484 [==============================] - 13s 26ms/step - loss: 5.5290 - accuracy: 0.0695\n",
            "Epoch 13/100\n",
            "484/484 [==============================] - 13s 26ms/step - loss: 5.4219 - accuracy: 0.0764\n",
            "Epoch 14/100\n",
            "484/484 [==============================] - 13s 26ms/step - loss: 5.3184 - accuracy: 0.0839\n",
            "Epoch 15/100\n",
            "484/484 [==============================] - 13s 27ms/step - loss: 5.2081 - accuracy: 0.0902\n",
            "Epoch 16/100\n",
            "484/484 [==============================] - 13s 26ms/step - loss: 5.1041 - accuracy: 0.0972\n",
            "Epoch 17/100\n",
            "484/484 [==============================] - 13s 26ms/step - loss: 4.9971 - accuracy: 0.1045\n",
            "Epoch 18/100\n",
            "484/484 [==============================] - 13s 26ms/step - loss: 4.8958 - accuracy: 0.1145\n",
            "Epoch 19/100\n",
            "484/484 [==============================] - 13s 26ms/step - loss: 4.7945 - accuracy: 0.1245\n",
            "Epoch 20/100\n",
            "484/484 [==============================] - 13s 26ms/step - loss: 4.6947 - accuracy: 0.1292\n",
            "Epoch 21/100\n",
            "484/484 [==============================] - 13s 27ms/step - loss: 4.5996 - accuracy: 0.1411\n",
            "Epoch 22/100\n",
            "484/484 [==============================] - 13s 27ms/step - loss: 4.4933 - accuracy: 0.1493\n",
            "Epoch 23/100\n",
            "484/484 [==============================] - 13s 27ms/step - loss: 4.3997 - accuracy: 0.1611\n",
            "Epoch 24/100\n",
            "484/484 [==============================] - 13s 26ms/step - loss: 4.3014 - accuracy: 0.1720\n",
            "Epoch 25/100\n",
            "484/484 [==============================] - 13s 26ms/step - loss: 4.2058 - accuracy: 0.1823\n",
            "Epoch 26/100\n",
            "484/484 [==============================] - 13s 27ms/step - loss: 4.1015 - accuracy: 0.1969\n",
            "Epoch 27/100\n",
            "484/484 [==============================] - 13s 26ms/step - loss: 4.0131 - accuracy: 0.2086\n",
            "Epoch 28/100\n",
            "484/484 [==============================] - 13s 26ms/step - loss: 3.9170 - accuracy: 0.2241\n",
            "Epoch 29/100\n",
            "484/484 [==============================] - 13s 26ms/step - loss: 3.8202 - accuracy: 0.2387\n",
            "Epoch 30/100\n",
            "484/484 [==============================] - 13s 27ms/step - loss: 3.7381 - accuracy: 0.2519\n",
            "Epoch 31/100\n",
            "484/484 [==============================] - 13s 26ms/step - loss: 3.6333 - accuracy: 0.2700\n",
            "Epoch 32/100\n",
            "484/484 [==============================] - 13s 27ms/step - loss: 3.5457 - accuracy: 0.2879\n",
            "Epoch 33/100\n",
            "484/484 [==============================] - 13s 27ms/step - loss: 3.4756 - accuracy: 0.3007\n",
            "Epoch 34/100\n",
            "484/484 [==============================] - 13s 26ms/step - loss: 3.3848 - accuracy: 0.3226\n",
            "Epoch 35/100\n",
            "484/484 [==============================] - 13s 26ms/step - loss: 3.3047 - accuracy: 0.3390\n",
            "Epoch 36/100\n",
            "484/484 [==============================] - 13s 26ms/step - loss: 3.2262 - accuracy: 0.3527\n",
            "Epoch 37/100\n",
            "484/484 [==============================] - 13s 26ms/step - loss: 3.1410 - accuracy: 0.3739\n",
            "Epoch 38/100\n",
            "484/484 [==============================] - 13s 26ms/step - loss: 3.0722 - accuracy: 0.3870\n",
            "Epoch 39/100\n",
            "484/484 [==============================] - 13s 26ms/step - loss: 2.9961 - accuracy: 0.4082\n",
            "Epoch 40/100\n",
            "484/484 [==============================] - 13s 27ms/step - loss: 2.9291 - accuracy: 0.4245\n",
            "Epoch 41/100\n",
            "484/484 [==============================] - 13s 26ms/step - loss: 2.8619 - accuracy: 0.4424\n",
            "Epoch 42/100\n",
            "484/484 [==============================] - 13s 27ms/step - loss: 2.7819 - accuracy: 0.4585\n",
            "Epoch 43/100\n",
            "484/484 [==============================] - 13s 27ms/step - loss: 2.7310 - accuracy: 0.4652\n",
            "Epoch 44/100\n",
            "484/484 [==============================] - 13s 27ms/step - loss: 2.6791 - accuracy: 0.4782\n",
            "Epoch 45/100\n",
            "484/484 [==============================] - 13s 27ms/step - loss: 2.6246 - accuracy: 0.4924\n",
            "Epoch 46/100\n",
            "484/484 [==============================] - 13s 28ms/step - loss: 2.5581 - accuracy: 0.5076\n",
            "Epoch 47/100\n",
            "484/484 [==============================] - 13s 27ms/step - loss: 2.5075 - accuracy: 0.5232\n",
            "Epoch 48/100\n",
            "484/484 [==============================] - 13s 27ms/step - loss: 2.4505 - accuracy: 0.5338\n",
            "Epoch 49/100\n",
            "484/484 [==============================] - 13s 27ms/step - loss: 2.3973 - accuracy: 0.5433\n",
            "Epoch 50/100\n",
            "484/484 [==============================] - 13s 27ms/step - loss: 2.3594 - accuracy: 0.5513\n",
            "Epoch 51/100\n",
            "484/484 [==============================] - 13s 27ms/step - loss: 2.3115 - accuracy: 0.5645\n",
            "Epoch 52/100\n",
            "484/484 [==============================] - 13s 27ms/step - loss: 2.2552 - accuracy: 0.5786\n",
            "Epoch 53/100\n",
            "484/484 [==============================] - 13s 27ms/step - loss: 2.2127 - accuracy: 0.5908\n",
            "Epoch 54/100\n",
            "484/484 [==============================] - 13s 27ms/step - loss: 2.1712 - accuracy: 0.5964\n",
            "Epoch 55/100\n",
            "484/484 [==============================] - 13s 27ms/step - loss: 2.1344 - accuracy: 0.6021\n",
            "Epoch 56/100\n",
            "484/484 [==============================] - 13s 27ms/step - loss: 2.1037 - accuracy: 0.6085\n",
            "Epoch 57/100\n",
            "484/484 [==============================] - 13s 27ms/step - loss: 2.0665 - accuracy: 0.6154\n",
            "Epoch 58/100\n",
            "484/484 [==============================] - 13s 27ms/step - loss: 2.0083 - accuracy: 0.6319\n",
            "Epoch 59/100\n",
            "484/484 [==============================] - 13s 27ms/step - loss: 1.9853 - accuracy: 0.6401\n",
            "Epoch 60/100\n",
            "484/484 [==============================] - 13s 27ms/step - loss: 1.9410 - accuracy: 0.6477\n",
            "Epoch 61/100\n",
            "484/484 [==============================] - 13s 27ms/step - loss: 1.9102 - accuracy: 0.6526\n",
            "Epoch 62/100\n",
            "484/484 [==============================] - 13s 27ms/step - loss: 1.8860 - accuracy: 0.6603\n",
            "Epoch 63/100\n",
            "484/484 [==============================] - 13s 27ms/step - loss: 1.8475 - accuracy: 0.6671\n",
            "Epoch 64/100\n",
            "484/484 [==============================] - 13s 27ms/step - loss: 1.8094 - accuracy: 0.6761\n",
            "Epoch 65/100\n",
            "484/484 [==============================] - 13s 27ms/step - loss: 1.7787 - accuracy: 0.6799\n",
            "Epoch 66/100\n",
            "484/484 [==============================] - 13s 27ms/step - loss: 1.7505 - accuracy: 0.6887\n",
            "Epoch 67/100\n",
            "484/484 [==============================] - 13s 27ms/step - loss: 1.7217 - accuracy: 0.6956\n",
            "Epoch 68/100\n",
            "484/484 [==============================] - 13s 27ms/step - loss: 1.7283 - accuracy: 0.6914\n",
            "Epoch 69/100\n",
            "484/484 [==============================] - 13s 27ms/step - loss: 1.6799 - accuracy: 0.7035\n",
            "Epoch 70/100\n",
            "484/484 [==============================] - 13s 28ms/step - loss: 1.6412 - accuracy: 0.7091\n",
            "Epoch 71/100\n",
            "484/484 [==============================] - 13s 27ms/step - loss: 1.6132 - accuracy: 0.7159\n",
            "Epoch 72/100\n",
            "484/484 [==============================] - 13s 27ms/step - loss: 1.6076 - accuracy: 0.7167\n",
            "Epoch 73/100\n",
            "484/484 [==============================] - 13s 27ms/step - loss: 1.6075 - accuracy: 0.7161\n",
            "Epoch 74/100\n",
            "484/484 [==============================] - 13s 27ms/step - loss: 1.5625 - accuracy: 0.7289\n",
            "Epoch 75/100\n",
            "484/484 [==============================] - 13s 27ms/step - loss: 1.5277 - accuracy: 0.7337\n",
            "Epoch 76/100\n",
            "484/484 [==============================] - 13s 27ms/step - loss: 1.5060 - accuracy: 0.7406\n",
            "Epoch 77/100\n",
            "484/484 [==============================] - 13s 27ms/step - loss: 1.4850 - accuracy: 0.7379\n",
            "Epoch 78/100\n",
            "484/484 [==============================] - 13s 27ms/step - loss: 1.4707 - accuracy: 0.7424\n",
            "Epoch 79/100\n",
            "484/484 [==============================] - 13s 27ms/step - loss: 1.4621 - accuracy: 0.7452\n",
            "Epoch 80/100\n",
            "484/484 [==============================] - 13s 27ms/step - loss: 1.4303 - accuracy: 0.7538\n",
            "Epoch 81/100\n",
            "484/484 [==============================] - 13s 27ms/step - loss: 1.4227 - accuracy: 0.7513\n",
            "Epoch 82/100\n",
            "484/484 [==============================] - 13s 27ms/step - loss: 1.4007 - accuracy: 0.7559\n",
            "Epoch 83/100\n",
            "484/484 [==============================] - 13s 27ms/step - loss: 1.3831 - accuracy: 0.7611\n",
            "Epoch 84/100\n",
            "484/484 [==============================] - 13s 27ms/step - loss: 1.3630 - accuracy: 0.7650\n",
            "Epoch 85/100\n",
            "484/484 [==============================] - 13s 27ms/step - loss: 1.3456 - accuracy: 0.7671\n",
            "Epoch 86/100\n",
            "484/484 [==============================] - 13s 27ms/step - loss: 1.3414 - accuracy: 0.7657\n",
            "Epoch 87/100\n",
            "484/484 [==============================] - 13s 27ms/step - loss: 1.3289 - accuracy: 0.7662\n",
            "Epoch 88/100\n",
            "484/484 [==============================] - 13s 27ms/step - loss: 1.3159 - accuracy: 0.7725\n",
            "Epoch 89/100\n",
            "484/484 [==============================] - 13s 27ms/step - loss: 1.3060 - accuracy: 0.7698\n",
            "Epoch 90/100\n",
            "484/484 [==============================] - 13s 27ms/step - loss: 1.2749 - accuracy: 0.7802\n",
            "Epoch 91/100\n",
            "484/484 [==============================] - 13s 26ms/step - loss: 1.2591 - accuracy: 0.7848\n",
            "Epoch 92/100\n",
            "484/484 [==============================] - 13s 27ms/step - loss: 1.2515 - accuracy: 0.7851\n",
            "Epoch 93/100\n",
            "484/484 [==============================] - 13s 27ms/step - loss: 1.2361 - accuracy: 0.7858\n",
            "Epoch 94/100\n",
            "484/484 [==============================] - 13s 27ms/step - loss: 1.2248 - accuracy: 0.7901\n",
            "Epoch 95/100\n",
            "484/484 [==============================] - 13s 27ms/step - loss: 1.2040 - accuracy: 0.7918\n",
            "Epoch 96/100\n",
            "484/484 [==============================] - 13s 27ms/step - loss: 1.2037 - accuracy: 0.7920\n",
            "Epoch 97/100\n",
            "484/484 [==============================] - 13s 27ms/step - loss: 1.2062 - accuracy: 0.7923\n",
            "Epoch 98/100\n",
            "484/484 [==============================] - 13s 26ms/step - loss: 1.1866 - accuracy: 0.7982\n",
            "Epoch 99/100\n",
            "484/484 [==============================] - 13s 26ms/step - loss: 1.1764 - accuracy: 0.7938\n",
            "Epoch 100/100\n",
            "484/484 [==============================] - 13s 26ms/step - loss: 1.1635 - accuracy: 0.7969\n"
          ],
          "name": "stdout"
        }
      ]
    },
    {
      "cell_type": "code",
      "metadata": {
        "colab_type": "code",
        "id": "1fXTEO3GJ282",
        "colab": {
          "base_uri": "https://localhost:8080/",
          "height": 545
        },
        "outputId": "32115227-1355-4109-c563-bea9e0624b20"
      },
      "source": [
        "import matplotlib.pyplot as plt\n",
        "acc = history.history['accuracy']\n",
        "loss = history.history['loss']\n",
        "\n",
        "epochs = range(len(acc))\n",
        "\n",
        "plt.plot(epochs, acc, 'b', label='Training accuracy')\n",
        "plt.title('Training accuracy')\n",
        "\n",
        "plt.figure()\n",
        "\n",
        "plt.plot(epochs, loss, 'b', label='Training Loss')\n",
        "plt.title('Training loss')\n",
        "plt.legend()\n",
        "\n",
        "plt.show()"
      ],
      "execution_count": 6,
      "outputs": [
        {
          "output_type": "display_data",
          "data": {
            "image/png": "[encoded data removed]",
            "text/plain": [
              "<Figure size 432x288 with 1 Axes>"
            ]
          },
          "metadata": {
            "tags": [],
            "needs_background": "light"
          }
        },
        {
          "output_type": "display_data",
          "data": {
            "image/png": "[encoded data removed]",
            "text/plain": [
              "<Figure size 432x288 with 1 Axes>"
            ]
          },
          "metadata": {
            "tags": [],
            "needs_background": "light"
          }
        }
      ]
    },
    {
      "cell_type": "code",
      "metadata": {
        "colab_type": "code",
        "id": "6Vc6PHgxa6Hm",
        "colab": {
          "base_uri": "https://localhost:8080/",
          "height": 112
        },
        "outputId": "310d4851-da0f-450f-a27d-7ec74c3406bd"
      },
      "source": [
        "seed_text = \"Help me Obi Wan Kenobi, you're my only hope\"\n",
        "next_words = 100\n",
        "  \n",
        "for _ in range(next_words):\n",
        "\ttoken_list = tokenizer.texts_to_sequences([seed_text])[0]\n",
        "\ttoken_list = pad_sequences([token_list], maxlen=max_sequence_len-1, padding='pre')\n",
        "\tpredicted = model.predict_classes(token_list, verbose=0)\n",
        "\toutput_word = \"\"\n",
        "\tfor word, index in tokenizer.word_index.items():\n",
        "\t\tif index == predicted:\n",
        "\t\t\toutput_word = word\n",
        "\t\t\tbreak\n",
        "\tseed_text += \" \" + output_word\n",
        "print(seed_text)"
      ],
      "execution_count": 7,
      "outputs": [
        {
          "output_type": "stream",
          "text": [
            "WARNING:tensorflow:From <ipython-input-7-622d307fa19a>:7: Sequential.predict_classes (from tensorflow.python.keras.engine.sequential) is deprecated and will be removed after 2021-01-01.\n",
            "Instructions for updating:\n",
            "Please use instead:* `np.argmax(model.predict(x), axis=-1)`,   if your model does multi-class classification   (e.g. if it uses a `softmax` last-layer activation).* `(model.predict(x) > 0.5).astype(\"int32\")`,   if your model does binary classification   (e.g. if it uses a `sigmoid` last-layer activation).\n",
            "Help me Obi Wan Kenobi, you're my only hope is wanting fair to thee receivest to done lie to thee you bright bright spent shown kind new groan rhyme ' another ill rhyme ' write thee call not grace me glory find things men must thee lies bright be forgot alone be old rich rare last thee bright he could be bright kind ' say write glory tell me great mind days must live do long so deceived still ' be still bright shown ill lack days bright did prove ill die ' die new pride ' torn torn go young but free kind to cross twain ' lived\n"
          ],
          "name": "stdout"
        }
      ]
    }
  ]
}