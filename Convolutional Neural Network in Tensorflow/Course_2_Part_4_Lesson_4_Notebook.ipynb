{
  "nbformat": 4,
  "nbformat_minor": 0,
  "metadata": {
    "accelerator": "GPU",
    "colab": {
      "name": "Course 2 - Part 4 - Lesson 4 - Notebook.ipynb",
      "provenance": [],
      "collapsed_sections": [],
      "toc_visible": true,
      "include_colab_link": true
    },
    "kernelspec": {
      "display_name": "Python 3",
      "name": "python3"
    }
  },
  "cells": [
    {
      "cell_type": "markdown",
      "metadata": {
        "id": "view-in-github",
        "colab_type": "text"
      },
      "source": [
        "<a href=\"https://colab.research.google.com/github/amrmoohamed/TensorFlow-in-Practice/blob/master/Convolutional%20Neural%20Network%20in%20Tensorflow/Course_2_Part_4_Lesson_4_Notebook.ipynb\" target=\"_parent\"><img src=\"https://colab.research.google.com/assets/colab-badge.svg\" alt=\"Open In Colab\"/></a>"
      ]
    },
    {
      "cell_type": "markdown",
      "metadata": {
        "colab_type": "text",
        "id": "rX8mhOLljYeM"
      },
      "source": [
        "##### Copyright 2019 The TensorFlow Authors."
      ]
    },
    {
      "cell_type": "code",
      "metadata": {
        "cellView": "form",
        "colab_type": "code",
        "id": "BZSlp3DAjdYf",
        "colab": {}
      },
      "source": [
        "#@title Licensed under the Apache License, Version 2.0 (the \"License\");\n",
        "# you may not use this file except in compliance with the License.\n",
        "# You may obtain a copy of the License at\n",
        "#\n",
        "# https://www.apache.org/licenses/LICENSE-2.0\n",
        "#\n",
        "# Unless required by applicable law or agreed to in writing, software\n",
        "# distributed under the License is distributed on an \"AS IS\" BASIS,\n",
        "# WITHOUT WARRANTIES OR CONDITIONS OF ANY KIND, either express or implied.\n",
        "# See the License for the specific language governing permissions and\n",
        "# limitations under the License."
      ],
      "execution_count": null,
      "outputs": []
    },
    {
      "cell_type": "code",
      "metadata": {
        "colab_type": "code",
        "id": "RXZT2UsyIVe_",
        "colab": {
          "base_uri": "https://localhost:8080/",
          "height": 430
        },
        "outputId": "e545b795-e444-4e16-8e6a-3cc5a60b576b"
      },
      "source": [
        "!wget --no-check-certificate \\\n",
        "    https://storage.googleapis.com/laurencemoroney-blog.appspot.com/horse-or-human.zip \\\n",
        "    -O /tmp/horse-or-human.zip\n",
        "\n",
        "!wget --no-check-certificate \\\n",
        "    https://storage.googleapis.com/laurencemoroney-blog.appspot.com/validation-horse-or-human.zip \\\n",
        "    -O /tmp/validation-horse-or-human.zip\n",
        "  \n",
        "import os\n",
        "import zipfile\n",
        "\n",
        "local_zip = '/tmp/horse-or-human.zip'\n",
        "zip_ref = zipfile.ZipFile(local_zip, 'r')\n",
        "zip_ref.extractall('/tmp/horse-or-human')\n",
        "local_zip = '/tmp/validation-horse-or-human.zip'\n",
        "zip_ref = zipfile.ZipFile(local_zip, 'r')\n",
        "zip_ref.extractall('/tmp/validation-horse-or-human')\n",
        "zip_ref.close()\n",
        "# Directory with our training horse pictures\n",
        "train_horse_dir = os.path.join('/tmp/horse-or-human/horses')\n",
        "\n",
        "# Directory with our training human pictures\n",
        "train_human_dir = os.path.join('/tmp/horse-or-human/humans')\n",
        "\n",
        "# Directory with our training horse pictures\n",
        "validation_horse_dir = os.path.join('/tmp/validation-horse-or-human/horses')\n",
        "\n",
        "# Directory with our training human pictures\n",
        "validation_human_dir = os.path.join('/tmp/validation-horse-or-human/humans')"
      ],
      "execution_count": null,
      "outputs": [
        {
          "output_type": "stream",
          "text": [
            "--2020-06-23 06:07:39--  https://storage.googleapis.com/laurencemoroney-blog.appspot.com/horse-or-human.zip\n",
            "Resolving storage.googleapis.com (storage.googleapis.com)... 64.233.189.128, 2404:6800:4008:c07::80\n",
            "Connecting to storage.googleapis.com (storage.googleapis.com)|64.233.189.128|:443... connected.\n",
            "HTTP request sent, awaiting response... 200 OK\n",
            "Length: 149574867 (143M) [application/zip]\n",
            "Saving to: ‘/tmp/horse-or-human.zip’\n",
            "\n",
            "\r/tmp/horse-or-human   0%[                    ]       0  --.-KB/s               \r/tmp/horse-or-human  15%[==>                 ]  22.48M   112MB/s               \r/tmp/horse-or-human  43%[=======>            ]  62.34M   156MB/s               \r/tmp/horse-or-human  79%[==============>     ] 112.73M   188MB/s               \r/tmp/horse-or-human 100%[===================>] 142.65M   185MB/s    in 0.8s    \n",
            "\n",
            "2020-06-23 06:07:40 (185 MB/s) - ‘/tmp/horse-or-human.zip’ saved [149574867/149574867]\n",
            "\n",
            "--2020-06-23 06:07:42--  https://storage.googleapis.com/laurencemoroney-blog.appspot.com/validation-horse-or-human.zip\n",
            "Resolving storage.googleapis.com (storage.googleapis.com)... 64.233.187.128, 2404:6800:4008:c03::80\n",
            "Connecting to storage.googleapis.com (storage.googleapis.com)|64.233.187.128|:443... connected.\n",
            "HTTP request sent, awaiting response... 200 OK\n",
            "Length: 11480187 (11M) [application/zip]\n",
            "Saving to: ‘/tmp/validation-horse-or-human.zip’\n",
            "\n",
            "/tmp/validation-hor 100%[===================>]  10.95M  --.-KB/s    in 0.05s   \n",
            "\n",
            "2020-06-23 06:07:42 (223 MB/s) - ‘/tmp/validation-horse-or-human.zip’ saved [11480187/11480187]\n",
            "\n"
          ],
          "name": "stdout"
        }
      ]
    },
    {
      "cell_type": "markdown",
      "metadata": {
        "colab_type": "text",
        "id": "5oqBkNBJmtUv"
      },
      "source": [
        "## Building a Small Model from Scratch\n",
        "\n",
        "But before we continue, let's start defining the model:\n",
        "\n",
        "Step 1 will be to import tensorflow."
      ]
    },
    {
      "cell_type": "code",
      "metadata": {
        "colab_type": "code",
        "id": "qvfZg3LQbD-5",
        "colab": {}
      },
      "source": [
        "import tensorflow as tf"
      ],
      "execution_count": null,
      "outputs": []
    },
    {
      "cell_type": "markdown",
      "metadata": {
        "colab_type": "text",
        "id": "BnhYCP4tdqjC"
      },
      "source": [
        "We then add convolutional layers as in the previous example, and flatten the final result to feed into the densely connected layers."
      ]
    },
    {
      "cell_type": "markdown",
      "metadata": {
        "colab_type": "text",
        "id": "gokG5HKpdtzm"
      },
      "source": [
        "Finally we add the densely connected layers. \n",
        "\n",
        "Note that because we are facing a two-class classification problem, i.e. a *binary classification problem*, we will end our network with a [*sigmoid* activation](https://wikipedia.org/wiki/Sigmoid_function), so that the output of our network will be a single scalar between 0 and 1, encoding the probability that the current image is class 1 (as opposed to class 0)."
      ]
    },
    {
      "cell_type": "code",
      "metadata": {
        "colab_type": "code",
        "id": "PixZ2s5QbYQ3",
        "colab": {}
      },
      "source": [
        "model = tf.keras.models.Sequential([\n",
        "    # Note the input shape is the desired size of the image 300x300 with 3 bytes color\n",
        "    # This is the first convolution\n",
        "    tf.keras.layers.Conv2D(16, (3,3), activation='relu', input_shape=(300, 300, 3)),\n",
        "    tf.keras.layers.MaxPooling2D(2, 2),\n",
        "    # The second convolution\n",
        "    tf.keras.layers.Conv2D(32, (3,3), activation='relu'),\n",
        "    tf.keras.layers.MaxPooling2D(2,2),\n",
        "    # The third convolution\n",
        "    tf.keras.layers.Conv2D(64, (3,3), activation='relu'),\n",
        "    tf.keras.layers.MaxPooling2D(2,2),\n",
        "    # The fourth convolution\n",
        "    tf.keras.layers.Conv2D(64, (3,3), activation='relu'),\n",
        "    tf.keras.layers.MaxPooling2D(2,2),\n",
        "    # The fifth convolution\n",
        "    tf.keras.layers.Conv2D(64, (3,3), activation='relu'),\n",
        "    tf.keras.layers.MaxPooling2D(2,2),\n",
        "    # Flatten the results to feed into a DNN\n",
        "    tf.keras.layers.Flatten(),\n",
        "    # 512 neuron hidden layer\n",
        "    tf.keras.layers.Dense(512, activation='relu'),\n",
        "    # Only 1 output neuron. It will contain a value from 0-1 where 0 for 1 class ('horses') and 1 for the other ('humans')\n",
        "    tf.keras.layers.Dense(1, activation='sigmoid')\n",
        "])"
      ],
      "execution_count": null,
      "outputs": []
    },
    {
      "cell_type": "code",
      "metadata": {
        "colab_type": "code",
        "id": "8DHWhFP_uhq3",
        "colab": {}
      },
      "source": [
        "from tensorflow.keras.optimizers import RMSprop\n",
        "\n",
        "model.compile(loss='binary_crossentropy',\n",
        "              optimizer=RMSprop(lr=1e-4),\n",
        "              metrics=['accuracy'])"
      ],
      "execution_count": null,
      "outputs": []
    },
    {
      "cell_type": "code",
      "metadata": {
        "colab_type": "code",
        "id": "ClebU9NJg99G",
        "colab": {
          "base_uri": "https://localhost:8080/",
          "height": 55
        },
        "outputId": "a1844f86-479f-4dba-9e4f-c95eb1364f2d"
      },
      "source": [
        "from tensorflow.keras.preprocessing.image import ImageDataGenerator\n",
        "\n",
        "# All images will be rescaled by 1./255\n",
        "train_datagen = ImageDataGenerator(\n",
        "      rescale=1./255,\n",
        "      rotation_range=40,\n",
        "      width_shift_range=0.2,\n",
        "      height_shift_range=0.2,\n",
        "      shear_range=0.2,\n",
        "      zoom_range=0.2,\n",
        "      horizontal_flip=True,\n",
        "      fill_mode='nearest')\n",
        "\n",
        "validation_datagen = ImageDataGenerator(rescale=1/255)\n",
        "\n",
        "# Flow training images in batches of 128 using train_datagen generator\n",
        "train_generator = train_datagen.flow_from_directory(\n",
        "        '/tmp/horse-or-human/',  # This is the source directory for training images\n",
        "        target_size=(300, 300),  # All images will be resized to 150x150\n",
        "        batch_size=128,\n",
        "        # Since we use binary_crossentropy loss, we need binary labels\n",
        "        class_mode='binary')\n",
        "\n",
        "# Flow training images in batches of 128 using train_datagen generator\n",
        "validation_generator = validation_datagen.flow_from_directory(\n",
        "        '/tmp/validation-horse-or-human/',  # This is the source directory for training images\n",
        "        target_size=(300, 300),  # All images will be resized to 150x150\n",
        "        batch_size=32,\n",
        "        # Since we use binary_crossentropy loss, we need binary labels\n",
        "        class_mode='binary')"
      ],
      "execution_count": null,
      "outputs": [
        {
          "output_type": "stream",
          "text": [
            "Found 1027 images belonging to 2 classes.\n",
            "Found 256 images belonging to 2 classes.\n"
          ],
          "name": "stdout"
        }
      ]
    },
    {
      "cell_type": "code",
      "metadata": {
        "colab_type": "code",
        "id": "Fb1_lgobv81m",
        "colab": {
          "base_uri": "https://localhost:8080/",
          "height": 1000
        },
        "outputId": "6cb304c6-6916-4e6c-fcfa-d5ac1a27821f"
      },
      "source": [
        "history = model.fit(\n",
        "      train_generator,\n",
        "      steps_per_epoch=8,  \n",
        "      epochs=100,\n",
        "      verbose=1,\n",
        "      validation_data = validation_generator,\n",
        "      validation_steps=8)"
      ],
      "execution_count": null,
      "outputs": [
        {
          "output_type": "stream",
          "text": [
            "Epoch 1/100\n",
            "8/8 [==============================] - 18s 2s/step - loss: 0.6828 - accuracy: 0.5645 - val_loss: 0.6670 - val_accuracy: 0.5859\n",
            "Epoch 2/100\n",
            "8/8 [==============================] - 19s 2s/step - loss: 0.6550 - accuracy: 0.6741 - val_loss: 0.6361 - val_accuracy: 0.5859\n",
            "Epoch 3/100\n",
            "8/8 [==============================] - 21s 3s/step - loss: 0.6449 - accuracy: 0.6663 - val_loss: 0.6351 - val_accuracy: 0.5977\n",
            "Epoch 4/100\n",
            "8/8 [==============================] - 18s 2s/step - loss: 0.6101 - accuracy: 0.7041 - val_loss: 0.5774 - val_accuracy: 0.7773\n",
            "Epoch 5/100\n",
            "8/8 [==============================] - 18s 2s/step - loss: 0.6037 - accuracy: 0.7052 - val_loss: 0.6119 - val_accuracy: 0.6016\n",
            "Epoch 6/100\n",
            "8/8 [==============================] - 18s 2s/step - loss: 0.5628 - accuracy: 0.7575 - val_loss: 0.6940 - val_accuracy: 0.5430\n",
            "Epoch 7/100\n",
            "8/8 [==============================] - 18s 2s/step - loss: 0.5679 - accuracy: 0.7297 - val_loss: 0.6122 - val_accuracy: 0.5859\n",
            "Epoch 8/100\n",
            "8/8 [==============================] - 18s 2s/step - loss: 0.5223 - accuracy: 0.7764 - val_loss: 0.5499 - val_accuracy: 0.6992\n",
            "Epoch 9/100\n",
            "8/8 [==============================] - 18s 2s/step - loss: 0.4966 - accuracy: 0.7842 - val_loss: 0.6540 - val_accuracy: 0.6016\n",
            "Epoch 10/100\n",
            "8/8 [==============================] - 18s 2s/step - loss: 0.5824 - accuracy: 0.7308 - val_loss: 0.6113 - val_accuracy: 0.6406\n",
            "Epoch 11/100\n",
            "8/8 [==============================] - 18s 2s/step - loss: 0.4687 - accuracy: 0.7798 - val_loss: 0.9722 - val_accuracy: 0.5547\n",
            "Epoch 12/100\n",
            "8/8 [==============================] - 18s 2s/step - loss: 0.5913 - accuracy: 0.7086 - val_loss: 1.1082 - val_accuracy: 0.5078\n",
            "Epoch 13/100\n",
            "8/8 [==============================] - 18s 2s/step - loss: 0.4918 - accuracy: 0.7586 - val_loss: 0.8260 - val_accuracy: 0.5977\n",
            "Epoch 14/100\n",
            "8/8 [==============================] - 21s 3s/step - loss: 0.4577 - accuracy: 0.7998 - val_loss: 0.9470 - val_accuracy: 0.5859\n",
            "Epoch 15/100\n",
            "8/8 [==============================] - 18s 2s/step - loss: 0.4480 - accuracy: 0.8042 - val_loss: 0.4338 - val_accuracy: 0.7812\n",
            "Epoch 16/100\n",
            "8/8 [==============================] - 18s 2s/step - loss: 0.4658 - accuracy: 0.7697 - val_loss: 0.7895 - val_accuracy: 0.6445\n",
            "Epoch 17/100\n",
            "8/8 [==============================] - 18s 2s/step - loss: 0.4093 - accuracy: 0.8142 - val_loss: 0.9034 - val_accuracy: 0.6484\n",
            "Epoch 18/100\n",
            "8/8 [==============================] - 18s 2s/step - loss: 0.4971 - accuracy: 0.7653 - val_loss: 0.9417 - val_accuracy: 0.6367\n",
            "Epoch 19/100\n",
            "8/8 [==============================] - 18s 2s/step - loss: 0.4312 - accuracy: 0.7998 - val_loss: 0.7824 - val_accuracy: 0.6719\n",
            "Epoch 20/100\n",
            "8/8 [==============================] - 21s 3s/step - loss: 0.3593 - accuracy: 0.8343 - val_loss: 1.0969 - val_accuracy: 0.6289\n",
            "Epoch 21/100\n",
            "8/8 [==============================] - 18s 2s/step - loss: 0.3826 - accuracy: 0.8331 - val_loss: 1.0140 - val_accuracy: 0.6602\n",
            "Epoch 22/100\n",
            "8/8 [==============================] - 21s 3s/step - loss: 0.4383 - accuracy: 0.8087 - val_loss: 1.2620 - val_accuracy: 0.6055\n",
            "Epoch 23/100\n",
            "8/8 [==============================] - 18s 2s/step - loss: 0.3942 - accuracy: 0.8031 - val_loss: 1.1530 - val_accuracy: 0.6328\n",
            "Epoch 24/100\n",
            "8/8 [==============================] - 18s 2s/step - loss: 0.3921 - accuracy: 0.8220 - val_loss: 1.1782 - val_accuracy: 0.6250\n",
            "Epoch 25/100\n",
            "8/8 [==============================] - 18s 2s/step - loss: 0.3381 - accuracy: 0.8498 - val_loss: 0.4114 - val_accuracy: 0.8164\n",
            "Epoch 26/100\n",
            "8/8 [==============================] - 18s 2s/step - loss: 0.3625 - accuracy: 0.8376 - val_loss: 0.4976 - val_accuracy: 0.8047\n",
            "Epoch 27/100\n",
            "8/8 [==============================] - 18s 2s/step - loss: 0.3888 - accuracy: 0.8254 - val_loss: 1.4228 - val_accuracy: 0.5898\n",
            "Epoch 28/100\n",
            "8/8 [==============================] - 18s 2s/step - loss: 0.3157 - accuracy: 0.8632 - val_loss: 0.8442 - val_accuracy: 0.7109\n",
            "Epoch 29/100\n",
            "8/8 [==============================] - 18s 2s/step - loss: 0.4111 - accuracy: 0.8098 - val_loss: 1.3037 - val_accuracy: 0.6172\n",
            "Epoch 30/100\n",
            "8/8 [==============================] - 18s 2s/step - loss: 0.3232 - accuracy: 0.8687 - val_loss: 1.1912 - val_accuracy: 0.6523\n",
            "Epoch 31/100\n",
            "8/8 [==============================] - 18s 2s/step - loss: 0.3832 - accuracy: 0.8187 - val_loss: 1.7306 - val_accuracy: 0.5703\n",
            "Epoch 32/100\n",
            "8/8 [==============================] - 18s 2s/step - loss: 0.3381 - accuracy: 0.8376 - val_loss: 1.1614 - val_accuracy: 0.6445\n",
            "Epoch 33/100\n",
            "8/8 [==============================] - 18s 2s/step - loss: 0.3658 - accuracy: 0.8420 - val_loss: 1.2444 - val_accuracy: 0.6250\n",
            "Epoch 34/100\n",
            "8/8 [==============================] - 18s 2s/step - loss: 0.2790 - accuracy: 0.8943 - val_loss: 1.1329 - val_accuracy: 0.6797\n",
            "Epoch 35/100\n",
            "8/8 [==============================] - 18s 2s/step - loss: 0.3511 - accuracy: 0.8309 - val_loss: 1.2736 - val_accuracy: 0.6602\n",
            "Epoch 36/100\n",
            "8/8 [==============================] - 20s 2s/step - loss: 0.3166 - accuracy: 0.8623 - val_loss: 2.3659 - val_accuracy: 0.5312\n",
            "Epoch 37/100\n",
            "8/8 [==============================] - 20s 3s/step - loss: 0.2550 - accuracy: 0.8977 - val_loss: 1.4612 - val_accuracy: 0.6328\n",
            "Epoch 38/100\n",
            "8/8 [==============================] - 18s 2s/step - loss: 0.3375 - accuracy: 0.8509 - val_loss: 1.4409 - val_accuracy: 0.6094\n",
            "Epoch 39/100\n",
            "8/8 [==============================] - 18s 2s/step - loss: 0.2460 - accuracy: 0.9010 - val_loss: 2.4115 - val_accuracy: 0.5469\n",
            "Epoch 40/100\n",
            "8/8 [==============================] - 20s 2s/step - loss: 0.2945 - accuracy: 0.8721 - val_loss: 1.6239 - val_accuracy: 0.6094\n",
            "Epoch 41/100\n",
            "8/8 [==============================] - 18s 2s/step - loss: 0.3054 - accuracy: 0.8687 - val_loss: 1.4054 - val_accuracy: 0.6367\n",
            "Epoch 42/100\n",
            "8/8 [==============================] - 18s 2s/step - loss: 0.2865 - accuracy: 0.8676 - val_loss: 1.8003 - val_accuracy: 0.5977\n",
            "Epoch 43/100\n",
            "8/8 [==============================] - 18s 2s/step - loss: 0.2420 - accuracy: 0.9077 - val_loss: 1.6897 - val_accuracy: 0.6211\n",
            "Epoch 44/100\n",
            "8/8 [==============================] - 18s 2s/step - loss: 0.2167 - accuracy: 0.9099 - val_loss: 1.0125 - val_accuracy: 0.7148\n",
            "Epoch 45/100\n",
            "8/8 [==============================] - 18s 2s/step - loss: 0.3346 - accuracy: 0.8543 - val_loss: 0.8472 - val_accuracy: 0.7305\n",
            "Epoch 46/100\n",
            "8/8 [==============================] - 18s 2s/step - loss: 0.2553 - accuracy: 0.8910 - val_loss: 1.3581 - val_accuracy: 0.6836\n",
            "Epoch 47/100\n",
            "8/8 [==============================] - 18s 2s/step - loss: 0.2767 - accuracy: 0.8710 - val_loss: 1.0162 - val_accuracy: 0.7188\n",
            "Epoch 48/100\n",
            "8/8 [==============================] - 18s 2s/step - loss: 0.4075 - accuracy: 0.8521 - val_loss: 1.2453 - val_accuracy: 0.6797\n",
            "Epoch 49/100\n",
            "8/8 [==============================] - 20s 3s/step - loss: 0.2197 - accuracy: 0.9210 - val_loss: 1.2784 - val_accuracy: 0.6875\n",
            "Epoch 50/100\n",
            "8/8 [==============================] - 18s 2s/step - loss: 0.2372 - accuracy: 0.9155 - val_loss: 2.2184 - val_accuracy: 0.5898\n",
            "Epoch 51/100\n",
            "8/8 [==============================] - 18s 2s/step - loss: 0.2977 - accuracy: 0.8643 - val_loss: 1.4812 - val_accuracy: 0.6367\n",
            "Epoch 52/100\n",
            "8/8 [==============================] - 18s 2s/step - loss: 0.2524 - accuracy: 0.9099 - val_loss: 0.9145 - val_accuracy: 0.7148\n",
            "Epoch 53/100\n",
            "8/8 [==============================] - 20s 2s/step - loss: 0.2295 - accuracy: 0.9082 - val_loss: 2.3070 - val_accuracy: 0.5781\n",
            "Epoch 54/100\n",
            "8/8 [==============================] - 18s 2s/step - loss: 0.2883 - accuracy: 0.8699 - val_loss: 1.4736 - val_accuracy: 0.6562\n",
            "Epoch 55/100\n",
            "8/8 [==============================] - 18s 2s/step - loss: 0.2001 - accuracy: 0.9210 - val_loss: 0.1778 - val_accuracy: 0.9336\n",
            "Epoch 56/100\n",
            "8/8 [==============================] - 18s 2s/step - loss: 0.3247 - accuracy: 0.8621 - val_loss: 1.7425 - val_accuracy: 0.6328\n",
            "Epoch 57/100\n",
            "8/8 [==============================] - 18s 2s/step - loss: 0.2149 - accuracy: 0.9188 - val_loss: 1.0802 - val_accuracy: 0.7148\n",
            "Epoch 58/100\n",
            "8/8 [==============================] - 18s 2s/step - loss: 0.2637 - accuracy: 0.8765 - val_loss: 1.6333 - val_accuracy: 0.6445\n",
            "Epoch 59/100\n",
            "8/8 [==============================] - 18s 2s/step - loss: 0.1807 - accuracy: 0.9333 - val_loss: 1.2383 - val_accuracy: 0.7070\n",
            "Epoch 60/100\n",
            "8/8 [==============================] - 18s 2s/step - loss: 0.2625 - accuracy: 0.8821 - val_loss: 1.7387 - val_accuracy: 0.6406\n",
            "Epoch 61/100\n",
            "8/8 [==============================] - 18s 2s/step - loss: 0.1786 - accuracy: 0.9299 - val_loss: 2.0537 - val_accuracy: 0.6328\n",
            "Epoch 62/100\n",
            "8/8 [==============================] - 18s 2s/step - loss: 0.2886 - accuracy: 0.8643 - val_loss: 0.9591 - val_accuracy: 0.7305\n",
            "Epoch 63/100\n",
            "8/8 [==============================] - 18s 2s/step - loss: 0.2083 - accuracy: 0.9121 - val_loss: 1.9381 - val_accuracy: 0.6367\n",
            "Epoch 64/100\n",
            "8/8 [==============================] - 18s 2s/step - loss: 0.1847 - accuracy: 0.9321 - val_loss: 1.0634 - val_accuracy: 0.7266\n",
            "Epoch 65/100\n",
            "8/8 [==============================] - 18s 2s/step - loss: 0.3058 - accuracy: 0.8598 - val_loss: 1.9217 - val_accuracy: 0.6289\n",
            "Epoch 66/100\n",
            "8/8 [==============================] - 18s 2s/step - loss: 0.1545 - accuracy: 0.9466 - val_loss: 2.1813 - val_accuracy: 0.6289\n",
            "Epoch 67/100\n",
            "8/8 [==============================] - 21s 3s/step - loss: 0.2901 - accuracy: 0.8854 - val_loss: 1.7822 - val_accuracy: 0.6562\n",
            "Epoch 68/100\n",
            "8/8 [==============================] - 20s 3s/step - loss: 0.1958 - accuracy: 0.9232 - val_loss: 2.2442 - val_accuracy: 0.6172\n",
            "Epoch 69/100\n",
            "8/8 [==============================] - 18s 2s/step - loss: 0.1938 - accuracy: 0.9177 - val_loss: 1.4749 - val_accuracy: 0.6953\n",
            "Epoch 70/100\n",
            "8/8 [==============================] - 18s 2s/step - loss: 0.2713 - accuracy: 0.8810 - val_loss: 2.0086 - val_accuracy: 0.6367\n",
            "Epoch 71/100\n",
            "8/8 [==============================] - 18s 2s/step - loss: 0.2009 - accuracy: 0.9177 - val_loss: 2.3423 - val_accuracy: 0.6094\n",
            "Epoch 72/100\n",
            "8/8 [==============================] - 21s 3s/step - loss: 0.1625 - accuracy: 0.9433 - val_loss: 1.8250 - val_accuracy: 0.6602\n",
            "Epoch 73/100\n",
            "8/8 [==============================] - 18s 2s/step - loss: 0.2052 - accuracy: 0.9188 - val_loss: 2.1438 - val_accuracy: 0.6367\n",
            "Epoch 74/100\n",
            "8/8 [==============================] - 18s 2s/step - loss: 0.2161 - accuracy: 0.9010 - val_loss: 2.0807 - val_accuracy: 0.6289\n",
            "Epoch 75/100\n",
            "8/8 [==============================] - 18s 2s/step - loss: 0.1864 - accuracy: 0.9221 - val_loss: 3.3012 - val_accuracy: 0.5547\n",
            "Epoch 76/100\n",
            "8/8 [==============================] - 18s 2s/step - loss: 0.2208 - accuracy: 0.8966 - val_loss: 1.9427 - val_accuracy: 0.6367\n",
            "Epoch 77/100\n",
            "8/8 [==============================] - 18s 2s/step - loss: 0.1605 - accuracy: 0.9422 - val_loss: 2.2346 - val_accuracy: 0.6406\n",
            "Epoch 78/100\n",
            "8/8 [==============================] - 18s 2s/step - loss: 0.2640 - accuracy: 0.8888 - val_loss: 1.6444 - val_accuracy: 0.6562\n",
            "Epoch 79/100\n",
            "8/8 [==============================] - 18s 2s/step - loss: 0.1491 - accuracy: 0.9444 - val_loss: 2.0338 - val_accuracy: 0.6445\n",
            "Epoch 80/100\n",
            "8/8 [==============================] - 18s 2s/step - loss: 0.2135 - accuracy: 0.9099 - val_loss: 2.1532 - val_accuracy: 0.6328\n",
            "Epoch 81/100\n",
            "8/8 [==============================] - 18s 2s/step - loss: 0.1596 - accuracy: 0.9333 - val_loss: 2.3679 - val_accuracy: 0.6211\n",
            "Epoch 82/100\n",
            "8/8 [==============================] - 18s 2s/step - loss: 0.1645 - accuracy: 0.9321 - val_loss: 2.9726 - val_accuracy: 0.5742\n",
            "Epoch 83/100\n",
            "8/8 [==============================] - 20s 2s/step - loss: 0.2102 - accuracy: 0.9160 - val_loss: 2.2292 - val_accuracy: 0.6211\n",
            "Epoch 84/100\n",
            "8/8 [==============================] - 18s 2s/step - loss: 0.1695 - accuracy: 0.9255 - val_loss: 2.7334 - val_accuracy: 0.5859\n",
            "Epoch 85/100\n",
            "8/8 [==============================] - 18s 2s/step - loss: 0.3774 - accuracy: 0.8843 - val_loss: 1.7855 - val_accuracy: 0.6562\n",
            "Epoch 86/100\n",
            "8/8 [==============================] - 18s 2s/step - loss: 0.1361 - accuracy: 0.9455 - val_loss: 1.8054 - val_accuracy: 0.6641\n",
            "Epoch 87/100\n",
            "8/8 [==============================] - 18s 2s/step - loss: 0.1323 - accuracy: 0.9455 - val_loss: 1.8373 - val_accuracy: 0.6719\n",
            "Epoch 88/100\n",
            "8/8 [==============================] - 18s 2s/step - loss: 0.1329 - accuracy: 0.9511 - val_loss: 2.2167 - val_accuracy: 0.6445\n",
            "Epoch 89/100\n",
            "8/8 [==============================] - 18s 2s/step - loss: 0.1622 - accuracy: 0.9422 - val_loss: 2.9742 - val_accuracy: 0.5820\n",
            "Epoch 90/100\n",
            "8/8 [==============================] - 18s 2s/step - loss: 0.3504 - accuracy: 0.8910 - val_loss: 1.7772 - val_accuracy: 0.6680\n",
            "Epoch 91/100\n",
            "8/8 [==============================] - 18s 2s/step - loss: 0.1141 - accuracy: 0.9644 - val_loss: 3.3189 - val_accuracy: 0.5508\n",
            "Epoch 92/100\n",
            "8/8 [==============================] - 18s 2s/step - loss: 0.2064 - accuracy: 0.9121 - val_loss: 2.1110 - val_accuracy: 0.6445\n",
            "Epoch 93/100\n",
            "8/8 [==============================] - 18s 2s/step - loss: 0.1386 - accuracy: 0.9511 - val_loss: 1.8435 - val_accuracy: 0.6719\n",
            "Epoch 94/100\n",
            "8/8 [==============================] - 18s 2s/step - loss: 0.1911 - accuracy: 0.9221 - val_loss: 1.7199 - val_accuracy: 0.6797\n",
            "Epoch 95/100\n",
            "8/8 [==============================] - 18s 2s/step - loss: 0.1507 - accuracy: 0.9333 - val_loss: 2.1349 - val_accuracy: 0.6523\n",
            "Epoch 96/100\n",
            "8/8 [==============================] - 18s 2s/step - loss: 0.1428 - accuracy: 0.9511 - val_loss: 2.7887 - val_accuracy: 0.5977\n",
            "Epoch 97/100\n",
            "8/8 [==============================] - 18s 2s/step - loss: 0.1476 - accuracy: 0.9422 - val_loss: 2.5811 - val_accuracy: 0.6289\n",
            "Epoch 98/100\n",
            "8/8 [==============================] - 18s 2s/step - loss: 0.2875 - accuracy: 0.9055 - val_loss: 1.6245 - val_accuracy: 0.6758\n",
            "Epoch 99/100\n",
            "8/8 [==============================] - 18s 2s/step - loss: 0.1026 - accuracy: 0.9722 - val_loss: 2.2759 - val_accuracy: 0.6445\n",
            "Epoch 100/100\n",
            "8/8 [==============================] - 18s 2s/step - loss: 0.1241 - accuracy: 0.9522 - val_loss: 3.1659 - val_accuracy: 0.5859\n"
          ],
          "name": "stdout"
        }
      ]
    },
    {
      "cell_type": "code",
      "metadata": {
        "colab_type": "code",
        "id": "7zNPRWOVJdOH",
        "colab": {
          "base_uri": "https://localhost:8080/",
          "height": 545
        },
        "outputId": "a2528008-1737-4796-c999-276673dc8619"
      },
      "source": [
        "import matplotlib.pyplot as plt\n",
        "acc = history.history['accuracy']\n",
        "val_acc = history.history['val_accuracy']\n",
        "loss = history.history['loss']\n",
        "val_loss = history.history['val_loss']\n",
        "\n",
        "epochs = range(len(acc))\n",
        "\n",
        "plt.plot(epochs, acc, 'r', label='Training accuracy')\n",
        "plt.plot(epochs, val_acc, 'b', label='Validation accuracy')\n",
        "plt.title('Training and validation accuracy')\n",
        "\n",
        "plt.figure()\n",
        "\n",
        "plt.plot(epochs, loss, 'r', label='Training Loss')\n",
        "plt.plot(epochs, val_loss, 'b', label='Validation Loss')\n",
        "plt.title('Training and validation loss')\n",
        "plt.legend()\n",
        "\n",
        "plt.show()"
      ],
      "execution_count": null,
      "outputs": [
        {
          "output_type": "display_data",
          "data": {
            "image/png": "[encoded data removed]",
            "text/plain": [
              "<Figure size 432x288 with 1 Axes>"
            ]
          },
          "metadata": {
            "tags": [],
            "needs_background": "light"
          }
        },
        {
          "output_type": "display_data",
          "data": {
            "image/png": "[encoded data removed]",
            "text/plain": [
              "<Figure size 432x288 with 1 Axes>"
            ]
          },
          "metadata": {
            "tags": [],
            "needs_background": "light"
          }
        }
      ]
    }
  ]
}